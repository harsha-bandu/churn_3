{
 "cells": [
  {
   "cell_type": "code",
   "execution_count": 1,
   "metadata": {},
   "outputs": [
    {
     "name": "stdout",
     "output_type": "stream",
     "text": [
      "RandomForestClassifier(max_depth=3, n_estimators=10)\n",
      "[0]\n"
     ]
    },
    {
     "name": "stderr",
     "output_type": "stream",
     "text": [
      "<ipython-input-1-cfcd2a06620a>:38: DataConversionWarning: A column-vector y was passed when a 1d array was expected. Please change the shape of y to (n_samples,), for example using ravel().\n",
      "  model.fit(X_train,Y_train)\n"
     ]
    }
   ],
   "source": [
    "import pandas as pd\n",
    "#import numpy as np\n",
    "from sklearn.preprocessing import LabelEncoder, MinMaxScaler\n",
    "from sklearn.model_selection import train_test_split\n",
    "from sklearn.linear_model import LogisticRegression\n",
    "from sklearn.ensemble import RandomForestClassifier as RF\n",
    "from sklearn.metrics import accuracy_score, confusion_matrix, classification_report\n",
    "\n",
    "\n",
    "\n",
    "data = pd.read_excel(r'C:\\Users\\harsh\\Documents\\BEPEC Notebooks\\Datasets\\Churn_data.xlsx')\n",
    "\n",
    "data_r = data.drop(['CIF','CUS_DOB','CUS_Customer_Since'], axis = 1)\n",
    "\n",
    "data_r['CUS_Gender'] = data_r['CUS_Gender'].ffill()\n",
    "data_r['CUS_Month_Income'] = data_r['CUS_Month_Income'].ffill()\n",
    "\n",
    "#Feature Engineerind technique\n",
    "label = LabelEncoder()\n",
    "data_r['CUS_Gender'] = label.fit_transform(data_r['CUS_Gender'])\n",
    "data_r['CUS_Marital_Status'] = label.fit_transform(data_r['CUS_Marital_Status'])\n",
    "data_r['TAR_Desc'] = label.fit_transform(data_r['TAR_Desc'])\n",
    "data_r['Status'] = label.fit_transform(data_r['Status'])\n",
    "\n",
    "#ACTIVE - 0 \n",
    "#CHURN -1\n",
    "\n",
    "X = data_r.iloc[:,:24]\n",
    "y = data_r.iloc[:,24:]\n",
    "\n",
    "#Feature Scaling technique\n",
    "scale = MinMaxScaler()\n",
    "X = scale.fit_transform(X)\n",
    "\n",
    "#Splitting data\n",
    "X_train, X_test, Y_train, Y_test = train_test_split(X,y, test_size = 0.2, random_state=0)\n",
    "model = RF(n_estimators = 10, max_depth = 3)\n",
    "model.fit(X_train,Y_train)\n",
    "\n",
    "print(model)\n",
    "\n",
    "#Model prediction\n",
    "predict = model.predict(X_test)\n",
    "\n",
    "\n",
    "confusion_matrix(Y_test, predict)\n",
    "classification_report(Y_test, predict)\n",
    "\n",
    "import pickle\n",
    "\n",
    "pickle.dump(model, open(\"churn.pkl\",\"wb\"))\n",
    "\n",
    "model_churn = pickle.load(open('churn.pkl',\"rb\"))\n",
    "\n",
    "#print(model.predict([[]]))\n",
    "print(model.predict([[16,200000,1,0,14,3,0,0,8693.6,\\\n",
    "                      0,0,0,0,0,0,0,0,8693.6,3,0,0,3,2223,0]]))\n"
   ]
  },
  {
   "cell_type": "code",
   "execution_count": null,
   "metadata": {},
   "outputs": [],
   "source": []
  }
 ],
 "metadata": {
  "kernelspec": {
   "display_name": "Python 3",
   "language": "python",
   "name": "python3"
  },
  "language_info": {
   "codemirror_mode": {
    "name": "ipython",
    "version": 3
   },
   "file_extension": ".py",
   "mimetype": "text/x-python",
   "name": "python",
   "nbconvert_exporter": "python",
   "pygments_lexer": "ipython3",
   "version": "3.8.3"
  }
 },
 "nbformat": 4,
 "nbformat_minor": 4
}
